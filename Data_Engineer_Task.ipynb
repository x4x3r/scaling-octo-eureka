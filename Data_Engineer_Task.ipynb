{
 "cells": [
  {
   "cell_type": "markdown",
   "id": "7128548f",
   "metadata": {},
   "source": [
    "# Movies analysis using Python Pandas and Object-oriented Approach (OOP)"
   ]
  },
  {
   "cell_type": "markdown",
   "id": "05c2a99c",
   "metadata": {},
   "source": [
    "The code in this notebook analyses the movies dataset downloaded from https://www.kaggle.com/rounakbanik/the-movies-dataset by using the data from the `movies_metadata.csv` and `ratings.csv` files according to the requirements specified in the file [Data_Engineering_Task.txt](https://github.com/x4x3r/scaling-octo-eureka/blob/main/Data-Engineer_task.txt).\n",
    "\n",
    "Refer to point **8. Movies analysis program using Pandas and object-oriented approach (OOP)** for the object-oriented (OOP) solution."
   ]
  },
  {
   "cell_type": "markdown",
   "id": "2b5e6578",
   "metadata": {},
   "source": [
    "## Import the required libraries"
   ]
  },
  {
   "cell_type": "code",
   "execution_count": 2,
   "id": "aa61f9ff",
   "metadata": {},
   "outputs": [],
   "source": [
    "import pandas as pd\n",
    "import numpy as np\n",
    "from datetime import datetime, date"
   ]
  },
  {
   "cell_type": "code",
   "execution_count": null,
   "id": "9cd65219",
   "metadata": {},
   "outputs": [],
   "source": [
    "# Create directory named \"data\" and unzip the downloaded movies data\n",
    "!mkdir '/home/user/Desktop/data_engineering_task/data'\n",
    "!unzip 'archive.zip' -d '/home/user/Desktop/data_engineering_task/data'"
   ]
  },
  {
   "cell_type": "code",
   "execution_count": 7,
   "id": "1b8e889c",
   "metadata": {},
   "outputs": [
    {
     "name": "stdout",
     "output_type": "stream",
     "text": [
      "total 921660\r\n",
      "-rw-rw-r-- 1 user user 189917659 сеп 21  2019 credits.csv\r\n",
      "-rw-rw-r-- 1 user user   6231943 сеп 21  2019 keywords.csv\r\n",
      "-rw-rw-r-- 1 user user    989107 сеп 21  2019 links.csv\r\n",
      "-rw-rw-r-- 1 user user    183372 сеп 21  2019 links_small.csv\r\n",
      "-rw-rw-r-- 1 user user  34445126 сеп 21  2019 movies_metadata.csv\r\n",
      "-rw-rw-r-- 1 user user 709550327 сеп 21  2019 ratings.csv\r\n",
      "-rw-rw-r-- 1 user user   2438266 сеп 21  2019 ratings_small.csv\r\n"
     ]
    }
   ],
   "source": [
    "# Check the unzipped data\n",
    "%ls -l data/"
   ]
  },
  {
   "cell_type": "markdown",
   "id": "3ba8a4ce",
   "metadata": {},
   "source": [
    "## Data exploration and  processing"
   ]
  },
  {
   "cell_type": "markdown",
   "id": "8764ed21",
   "metadata": {},
   "source": [
    "The number of movies can be calculated from the `movies_metadata.csv` dataset"
   ]
  },
  {
   "cell_type": "code",
   "execution_count": 3,
   "id": "807e4344",
   "metadata": {
    "scrolled": true
   },
   "outputs": [
    {
     "name": "stderr",
     "output_type": "stream",
     "text": [
      "/tmp/ipykernel_6057/3685314342.py:2: DtypeWarning: Columns (10) have mixed types. Specify dtype option on import or set low_memory=False.\n",
      "  movies_df = pd.read_csv('data/movies_metadata.csv', header=0)\n"
     ]
    },
    {
     "data": {
      "text/html": [
       "<div>\n",
       "<style scoped>\n",
       "    .dataframe tbody tr th:only-of-type {\n",
       "        vertical-align: middle;\n",
       "    }\n",
       "\n",
       "    .dataframe tbody tr th {\n",
       "        vertical-align: top;\n",
       "    }\n",
       "\n",
       "    .dataframe thead th {\n",
       "        text-align: right;\n",
       "    }\n",
       "</style>\n",
       "<table border=\"1\" class=\"dataframe\">\n",
       "  <thead>\n",
       "    <tr style=\"text-align: right;\">\n",
       "      <th></th>\n",
       "      <th>adult</th>\n",
       "      <th>belongs_to_collection</th>\n",
       "      <th>budget</th>\n",
       "      <th>genres</th>\n",
       "      <th>homepage</th>\n",
       "      <th>id</th>\n",
       "      <th>imdb_id</th>\n",
       "      <th>original_language</th>\n",
       "      <th>original_title</th>\n",
       "      <th>overview</th>\n",
       "      <th>...</th>\n",
       "      <th>release_date</th>\n",
       "      <th>revenue</th>\n",
       "      <th>runtime</th>\n",
       "      <th>spoken_languages</th>\n",
       "      <th>status</th>\n",
       "      <th>tagline</th>\n",
       "      <th>title</th>\n",
       "      <th>video</th>\n",
       "      <th>vote_average</th>\n",
       "      <th>vote_count</th>\n",
       "    </tr>\n",
       "  </thead>\n",
       "  <tbody>\n",
       "    <tr>\n",
       "      <th>0</th>\n",
       "      <td>False</td>\n",
       "      <td>{'id': 10194, 'name': 'Toy Story Collection', ...</td>\n",
       "      <td>30000000</td>\n",
       "      <td>[{'id': 16, 'name': 'Animation'}, {'id': 35, '...</td>\n",
       "      <td>http://toystory.disney.com/toy-story</td>\n",
       "      <td>862</td>\n",
       "      <td>tt0114709</td>\n",
       "      <td>en</td>\n",
       "      <td>Toy Story</td>\n",
       "      <td>Led by Woody, Andy's toys live happily in his ...</td>\n",
       "      <td>...</td>\n",
       "      <td>1995-10-30</td>\n",
       "      <td>373554033.0</td>\n",
       "      <td>81.0</td>\n",
       "      <td>[{'iso_639_1': 'en', 'name': 'English'}]</td>\n",
       "      <td>Released</td>\n",
       "      <td>NaN</td>\n",
       "      <td>Toy Story</td>\n",
       "      <td>False</td>\n",
       "      <td>7.7</td>\n",
       "      <td>5415.0</td>\n",
       "    </tr>\n",
       "    <tr>\n",
       "      <th>1</th>\n",
       "      <td>False</td>\n",
       "      <td>NaN</td>\n",
       "      <td>65000000</td>\n",
       "      <td>[{'id': 12, 'name': 'Adventure'}, {'id': 14, '...</td>\n",
       "      <td>NaN</td>\n",
       "      <td>8844</td>\n",
       "      <td>tt0113497</td>\n",
       "      <td>en</td>\n",
       "      <td>Jumanji</td>\n",
       "      <td>When siblings Judy and Peter discover an encha...</td>\n",
       "      <td>...</td>\n",
       "      <td>1995-12-15</td>\n",
       "      <td>262797249.0</td>\n",
       "      <td>104.0</td>\n",
       "      <td>[{'iso_639_1': 'en', 'name': 'English'}, {'iso...</td>\n",
       "      <td>Released</td>\n",
       "      <td>Roll the dice and unleash the excitement!</td>\n",
       "      <td>Jumanji</td>\n",
       "      <td>False</td>\n",
       "      <td>6.9</td>\n",
       "      <td>2413.0</td>\n",
       "    </tr>\n",
       "    <tr>\n",
       "      <th>2</th>\n",
       "      <td>False</td>\n",
       "      <td>{'id': 119050, 'name': 'Grumpy Old Men Collect...</td>\n",
       "      <td>0</td>\n",
       "      <td>[{'id': 10749, 'name': 'Romance'}, {'id': 35, ...</td>\n",
       "      <td>NaN</td>\n",
       "      <td>15602</td>\n",
       "      <td>tt0113228</td>\n",
       "      <td>en</td>\n",
       "      <td>Grumpier Old Men</td>\n",
       "      <td>A family wedding reignites the ancient feud be...</td>\n",
       "      <td>...</td>\n",
       "      <td>1995-12-22</td>\n",
       "      <td>0.0</td>\n",
       "      <td>101.0</td>\n",
       "      <td>[{'iso_639_1': 'en', 'name': 'English'}]</td>\n",
       "      <td>Released</td>\n",
       "      <td>Still Yelling. Still Fighting. Still Ready for...</td>\n",
       "      <td>Grumpier Old Men</td>\n",
       "      <td>False</td>\n",
       "      <td>6.5</td>\n",
       "      <td>92.0</td>\n",
       "    </tr>\n",
       "    <tr>\n",
       "      <th>3</th>\n",
       "      <td>False</td>\n",
       "      <td>NaN</td>\n",
       "      <td>16000000</td>\n",
       "      <td>[{'id': 35, 'name': 'Comedy'}, {'id': 18, 'nam...</td>\n",
       "      <td>NaN</td>\n",
       "      <td>31357</td>\n",
       "      <td>tt0114885</td>\n",
       "      <td>en</td>\n",
       "      <td>Waiting to Exhale</td>\n",
       "      <td>Cheated on, mistreated and stepped on, the wom...</td>\n",
       "      <td>...</td>\n",
       "      <td>1995-12-22</td>\n",
       "      <td>81452156.0</td>\n",
       "      <td>127.0</td>\n",
       "      <td>[{'iso_639_1': 'en', 'name': 'English'}]</td>\n",
       "      <td>Released</td>\n",
       "      <td>Friends are the people who let you be yourself...</td>\n",
       "      <td>Waiting to Exhale</td>\n",
       "      <td>False</td>\n",
       "      <td>6.1</td>\n",
       "      <td>34.0</td>\n",
       "    </tr>\n",
       "    <tr>\n",
       "      <th>4</th>\n",
       "      <td>False</td>\n",
       "      <td>{'id': 96871, 'name': 'Father of the Bride Col...</td>\n",
       "      <td>0</td>\n",
       "      <td>[{'id': 35, 'name': 'Comedy'}]</td>\n",
       "      <td>NaN</td>\n",
       "      <td>11862</td>\n",
       "      <td>tt0113041</td>\n",
       "      <td>en</td>\n",
       "      <td>Father of the Bride Part II</td>\n",
       "      <td>Just when George Banks has recovered from his ...</td>\n",
       "      <td>...</td>\n",
       "      <td>1995-02-10</td>\n",
       "      <td>76578911.0</td>\n",
       "      <td>106.0</td>\n",
       "      <td>[{'iso_639_1': 'en', 'name': 'English'}]</td>\n",
       "      <td>Released</td>\n",
       "      <td>Just When His World Is Back To Normal... He's ...</td>\n",
       "      <td>Father of the Bride Part II</td>\n",
       "      <td>False</td>\n",
       "      <td>5.7</td>\n",
       "      <td>173.0</td>\n",
       "    </tr>\n",
       "  </tbody>\n",
       "</table>\n",
       "<p>5 rows × 24 columns</p>\n",
       "</div>"
      ],
      "text/plain": [
       "   adult                              belongs_to_collection    budget  \\\n",
       "0  False  {'id': 10194, 'name': 'Toy Story Collection', ...  30000000   \n",
       "1  False                                                NaN  65000000   \n",
       "2  False  {'id': 119050, 'name': 'Grumpy Old Men Collect...         0   \n",
       "3  False                                                NaN  16000000   \n",
       "4  False  {'id': 96871, 'name': 'Father of the Bride Col...         0   \n",
       "\n",
       "                                              genres  \\\n",
       "0  [{'id': 16, 'name': 'Animation'}, {'id': 35, '...   \n",
       "1  [{'id': 12, 'name': 'Adventure'}, {'id': 14, '...   \n",
       "2  [{'id': 10749, 'name': 'Romance'}, {'id': 35, ...   \n",
       "3  [{'id': 35, 'name': 'Comedy'}, {'id': 18, 'nam...   \n",
       "4                     [{'id': 35, 'name': 'Comedy'}]   \n",
       "\n",
       "                               homepage     id    imdb_id original_language  \\\n",
       "0  http://toystory.disney.com/toy-story    862  tt0114709                en   \n",
       "1                                   NaN   8844  tt0113497                en   \n",
       "2                                   NaN  15602  tt0113228                en   \n",
       "3                                   NaN  31357  tt0114885                en   \n",
       "4                                   NaN  11862  tt0113041                en   \n",
       "\n",
       "                original_title  \\\n",
       "0                    Toy Story   \n",
       "1                      Jumanji   \n",
       "2             Grumpier Old Men   \n",
       "3            Waiting to Exhale   \n",
       "4  Father of the Bride Part II   \n",
       "\n",
       "                                            overview  ... release_date  \\\n",
       "0  Led by Woody, Andy's toys live happily in his ...  ...   1995-10-30   \n",
       "1  When siblings Judy and Peter discover an encha...  ...   1995-12-15   \n",
       "2  A family wedding reignites the ancient feud be...  ...   1995-12-22   \n",
       "3  Cheated on, mistreated and stepped on, the wom...  ...   1995-12-22   \n",
       "4  Just when George Banks has recovered from his ...  ...   1995-02-10   \n",
       "\n",
       "       revenue runtime                                   spoken_languages  \\\n",
       "0  373554033.0    81.0           [{'iso_639_1': 'en', 'name': 'English'}]   \n",
       "1  262797249.0   104.0  [{'iso_639_1': 'en', 'name': 'English'}, {'iso...   \n",
       "2          0.0   101.0           [{'iso_639_1': 'en', 'name': 'English'}]   \n",
       "3   81452156.0   127.0           [{'iso_639_1': 'en', 'name': 'English'}]   \n",
       "4   76578911.0   106.0           [{'iso_639_1': 'en', 'name': 'English'}]   \n",
       "\n",
       "     status                                            tagline  \\\n",
       "0  Released                                                NaN   \n",
       "1  Released          Roll the dice and unleash the excitement!   \n",
       "2  Released  Still Yelling. Still Fighting. Still Ready for...   \n",
       "3  Released  Friends are the people who let you be yourself...   \n",
       "4  Released  Just When His World Is Back To Normal... He's ...   \n",
       "\n",
       "                         title  video vote_average vote_count  \n",
       "0                    Toy Story  False          7.7     5415.0  \n",
       "1                      Jumanji  False          6.9     2413.0  \n",
       "2             Grumpier Old Men  False          6.5       92.0  \n",
       "3            Waiting to Exhale  False          6.1       34.0  \n",
       "4  Father of the Bride Part II  False          5.7      173.0  \n",
       "\n",
       "[5 rows x 24 columns]"
      ]
     },
     "execution_count": 3,
     "metadata": {},
     "output_type": "execute_result"
    }
   ],
   "source": [
    "#  Read the movies_metadata.csv dataset into a pandas DataFrame\n",
    "movies_df = pd.read_csv('data/movies_metadata.csv', header=0)\n",
    "\n",
    "# Display the first 5 rows of the DataFrame to get a glimpse of the data\n",
    "movies_df.head(5)"
   ]
  },
  {
   "cell_type": "code",
   "execution_count": 6,
   "id": "c7e1b9c6",
   "metadata": {},
   "outputs": [
    {
     "data": {
      "text/plain": [
       "\"[{'id': 16, 'name': 'Animation'}, {'id': 35, 'name': 'Comedy'}, {'id': 10751, 'name': 'Family'}]\""
      ]
     },
     "execution_count": 6,
     "metadata": {},
     "output_type": "execute_result"
    }
   ],
   "source": [
    "movies_df['genres'].iloc[0]"
   ]
  },
  {
   "cell_type": "code",
   "execution_count": null,
   "id": "ed3d7a22",
   "metadata": {},
   "outputs": [],
   "source": [
    "# Check which columns can be used for counting the movies\n",
    "movies_df.columns"
   ]
  },
  {
   "cell_type": "code",
   "execution_count": null,
   "id": "e4f560d5",
   "metadata": {},
   "outputs": [],
   "source": [
    "# Determine the total number of rows in the movies metadata dataset\n",
    "len(movies_df)"
   ]
  },
  {
   "cell_type": "markdown",
   "id": "ddd95dff",
   "metadata": {},
   "source": [
    "**Explanation**: There are 45466 rows in the movies_metadata.csv. `movies_df.columns` reveals that there are 2 possible id columns: 'id' and 'imdb_id'. Further inspection reveals that 'id' has more values and no NA values, while the index numbers in 'imdb_id' have 17 movies less. So, 'id' column might be appropriate for movie count and as an id column of the dataset."
   ]
  },
  {
   "cell_type": "code",
   "execution_count": null,
   "id": "1b8d9973",
   "metadata": {},
   "outputs": [],
   "source": [
    "# Check the number of rows in the 'id' column that have NA values\n",
    "movies_df['id'].isna().sum()"
   ]
  },
  {
   "cell_type": "markdown",
   "id": "396ab052",
   "metadata": {},
   "source": [
    "**Explanation**: There are no rows in the 'id' column with NA values, indicating that it is a complete and suitable column for further analysis."
   ]
  },
  {
   "cell_type": "code",
   "execution_count": null,
   "id": "e26c2973",
   "metadata": {},
   "outputs": [],
   "source": [
    "# Check the number of rows in the 'imdb_id' column that have NA values\n",
    "movies_df['imdb_id'].isna().sum()"
   ]
  },
  {
   "cell_type": "markdown",
   "id": "997ab0eb",
   "metadata": {},
   "source": [
    "**Explanation**: There are 17 movies in the dataset that are not indexed by IMDB but still exist in the movies database on Kaggle. These movies have missing values in the 'imdb_id' column."
   ]
  },
  {
   "cell_type": "code",
   "execution_count": null,
   "id": "5460838c",
   "metadata": {
    "scrolled": true
   },
   "outputs": [],
   "source": [
    "# Display the 17 movies that have missing 'imdb_id' values\n",
    "movies_df[movies_df['imdb_id'].isna()]"
   ]
  },
  {
   "cell_type": "markdown",
   "id": "b085c049",
   "metadata": {},
   "source": [
    "**Explanation**: The above DataFrame shows the 17 movies that do not have an 'imdb_id'. These movies might have limited information available, making it difficult to use them in further analysis."
   ]
  },
  {
   "cell_type": "markdown",
   "id": "98c786b9",
   "metadata": {},
   "source": [
    "Also, `pd.read_csv` returns **DtypeWarning: Columns (10) have mixed types**. Columns (10) is the 'id' column. We will try to filter these non-alphanumeric symbols to see what's in there."
   ]
  },
  {
   "cell_type": "code",
   "execution_count": null,
   "id": "e49c0794",
   "metadata": {
    "scrolled": true
   },
   "outputs": [],
   "source": [
    "# Filter out the rows in the 'id' column that contain non-alphanumeric symbols\n",
    "movies_df[~movies_df['id'].str.isalnum()]"
   ]
  },
  {
   "cell_type": "markdown",
   "id": "d3bc2548",
   "metadata": {},
   "source": [
    "**Explanation**: The 'id' column contains three rows with release dates instead of alphanumeric values. Since these rows do not provide much useful information and lack proper 'id' numbers, it is best to drop them from the DataFrame."
   ]
  },
  {
   "cell_type": "code",
   "execution_count": null,
   "id": "f2282806",
   "metadata": {},
   "outputs": [],
   "source": [
    "# Dropping the non-alphanumeric rows\n",
    "movies_df = movies_df[movies_df['id'].str.isalnum()]"
   ]
  },
  {
   "cell_type": "markdown",
   "id": "c3a4aebb",
   "metadata": {},
   "source": [
    "Also, it's worthwile checking for duplicate rows. Here are they:"
   ]
  },
  {
   "cell_type": "code",
   "execution_count": null,
   "id": "d98b9550",
   "metadata": {},
   "outputs": [],
   "source": [
    "# Check for duplicate rows in the 'id' column\n",
    "movies_df[movies_df['id'].duplicated(keep=False)].sort_values('id')"
   ]
  },
  {
   "cell_type": "markdown",
   "id": "f92d69af",
   "metadata": {},
   "source": [
    "**Explanation**: The above DataFrame displays the rows in the 'id' column that are duplicated. It helps identify any inconsistencies or redundant data."
   ]
  },
  {
   "cell_type": "code",
   "execution_count": null,
   "id": "56bac343",
   "metadata": {},
   "outputs": [],
   "source": [
    "# Keep only the rows with unique 'id' numbers and update the dataframe\n",
    "movies_df = movies_df.drop_duplicates(subset='id')"
   ]
  },
  {
   "cell_type": "markdown",
   "id": "b6ae9dbe",
   "metadata": {},
   "source": [
    "## 1. Load the dataset from a CSV file."
   ]
  },
  {
   "cell_type": "markdown",
   "id": "5becd4a7",
   "metadata": {},
   "source": [
    "We can write all data processing operations as a single function"
   ]
  },
  {
   "cell_type": "code",
   "execution_count": 3,
   "id": "88dbd2e4",
   "metadata": {},
   "outputs": [],
   "source": [
    "def data_processing(ratings_filepath, movies_filepath):\n",
    "    \"\"\"1. Load the dataset from a CSV file.\"\"\"\n",
    "    \n",
    "    dtypes = {\n",
    "        'genres': object,\n",
    "        'release_date': str,\n",
    "        'title': str,\n",
    "    }\n",
    "    \n",
    "    # Read the movies_metadata.csv\n",
    "    movie_columns = ['genres', 'id', 'release_date', 'title']\n",
    "    movies_df = pd.read_csv(movies_filepath, header=0 , sep=',', \\\n",
    "                            parse_dates=True, \\\n",
    "                            usecols=movie_columns, \\\n",
    "                            dtype=dtypes)\n",
    "    \n",
    "    # Drop the rows in movies_df where 'id' column contains non-alphanumeric symbols\n",
    "    movies_df = movies_df[movies_df['id'].str.isalnum()]\n",
    "    \n",
    "    # Keep only the rows with unique 'id' numbers\n",
    "    movies_df = movies_df.drop_duplicates(subset='id')\n",
    "    \n",
    "    # Convert 'id' column to int data type\n",
    "    movies_df['id'] = movies_df['id'].astype(int)\n",
    "    \n",
    "    # Set the 'id' column as the index of movies_df\n",
    "    movies_df.set_index('id', inplace=True)  \n",
    "    \n",
    "    # Read the ratings.csv file into ratings_df DataFrame\n",
    "    columns = ['movieId', 'rating']\n",
    "    ratings_df = pd.read_csv(ratings_filepath, \\\n",
    "                        usecols=columns, \\\n",
    "                        index_col='movieId', \\\n",
    "                         dtype={'movieId':int, \\\n",
    "                        'rating':float})\n",
    "    \n",
    "    return ratings_df, movies_df\n",
    "\n",
    "ratings_filepath = 'data/ratings.csv'\n",
    "movies_filepath = 'data/movies_metadata.csv'\n",
    "\n",
    "ratings_df, movies_df = data_processing(ratings_filepath, movies_filepath)"
   ]
  },
  {
   "cell_type": "markdown",
   "id": "df61b99d",
   "metadata": {},
   "source": [
    "## 2. Print the number of movies in the dataset."
   ]
  },
  {
   "cell_type": "code",
   "execution_count": null,
   "id": "10c6a429",
   "metadata": {
    "scrolled": true
   },
   "outputs": [],
   "source": [
    "# Print the number of unique movies\n",
    "len(movies_df)"
   ]
  },
  {
   "cell_type": "markdown",
   "id": "33a77bd2",
   "metadata": {},
   "source": [
    "## 3. Print the average rating of all the movies."
   ]
  },
  {
   "cell_type": "code",
   "execution_count": null,
   "id": "c685fcd0",
   "metadata": {},
   "outputs": [],
   "source": [
    "def average_rating_loops(file_path):\n",
    "    \"\"\"Calculate the average rating of all movies\"\"\"\n",
    "        \n",
    "    # Define the variables\n",
    "    chunk_size= 5000\n",
    "    \n",
    "    # Initialize variables for average rating calculation\n",
    "    total_sum = 0\n",
    "    total_count = 0\n",
    "    \n",
    "    # Read the file in chunks to prevent memory overloading\n",
    "    for chunk in pd.read_csv(file_path, chunksize=chunk_size):\n",
    "        chunk_sum = chunk['rating'].sum()\n",
    "        \n",
    "        # Update the average values\n",
    "        total_sum += chunk_sum\n",
    "        total_count += len(chunk)\n",
    "    \n",
    "    # Calculate the average rating for all movies\n",
    "    average_rating = total_sum/total_count\n",
    "    \n",
    "    # Print the average rating of all the movies\n",
    "    print('Average movie rating: ' + str(np.round(average_rating, 2)))\n",
    "\n",
    "file_path='data/ratings.csv'\n",
    "average_rating_loops(file_path)"
   ]
  },
  {
   "cell_type": "markdown",
   "id": "a4773053",
   "metadata": {},
   "source": [
    "Another way is to use Pandas load only the columns necessary for calculating the average rating of all movies"
   ]
  },
  {
   "cell_type": "code",
   "execution_count": null,
   "id": "704b4bf1",
   "metadata": {},
   "outputs": [],
   "source": [
    "def average_rating(ratings):\n",
    "    \"\"\"Calculate the average rating of all movies\"\"\"\n",
    "    \n",
    "    average_rating = ratings_df['rating'].mean()\n",
    "    print('Average movie rating: ' + str(np.round(average_rating, 2)))\n",
    "\n",
    "average_rating(ratings_df)"
   ]
  },
  {
   "cell_type": "markdown",
   "id": "dcb52c7f",
   "metadata": {},
   "source": [
    "## 4. Print the top 5 highest rated movies."
   ]
  },
  {
   "cell_type": "code",
   "execution_count": 4,
   "id": "b2aa9c54",
   "metadata": {},
   "outputs": [
    {
     "data": {
      "text/html": [
       "<div>\n",
       "<style scoped>\n",
       "    .dataframe tbody tr th:only-of-type {\n",
       "        vertical-align: middle;\n",
       "    }\n",
       "\n",
       "    .dataframe tbody tr th {\n",
       "        vertical-align: top;\n",
       "    }\n",
       "\n",
       "    .dataframe thead th {\n",
       "        text-align: right;\n",
       "    }\n",
       "</style>\n",
       "<table border=\"1\" class=\"dataframe\">\n",
       "  <thead>\n",
       "    <tr style=\"text-align: right;\">\n",
       "      <th></th>\n",
       "      <th>rating</th>\n",
       "      <th>title</th>\n",
       "    </tr>\n",
       "  </thead>\n",
       "  <tbody>\n",
       "    <tr>\n",
       "      <th>95977</th>\n",
       "      <td>5.0</td>\n",
       "      <td>The Man Behind The Gun</td>\n",
       "    </tr>\n",
       "    <tr>\n",
       "      <th>167666</th>\n",
       "      <td>5.0</td>\n",
       "      <td>Monster High: Escape from Skull Shores</td>\n",
       "    </tr>\n",
       "    <tr>\n",
       "      <th>130544</th>\n",
       "      <td>5.0</td>\n",
       "      <td>Palermo or Wolfsburg</td>\n",
       "    </tr>\n",
       "    <tr>\n",
       "      <th>129530</th>\n",
       "      <td>5.0</td>\n",
       "      <td>Brutal</td>\n",
       "    </tr>\n",
       "    <tr>\n",
       "      <th>164278</th>\n",
       "      <td>5.0</td>\n",
       "      <td>Harvey</td>\n",
       "    </tr>\n",
       "  </tbody>\n",
       "</table>\n",
       "</div>"
      ],
      "text/plain": [
       "        rating                                   title\n",
       "95977      5.0                  The Man Behind The Gun\n",
       "167666     5.0  Monster High: Escape from Skull Shores\n",
       "130544     5.0                    Palermo or Wolfsburg\n",
       "129530     5.0                                  Brutal\n",
       "164278     5.0                                  Harvey"
      ]
     },
     "execution_count": 4,
     "metadata": {},
     "output_type": "execute_result"
    }
   ],
   "source": [
    "def top_5_movies(ratings, movies):\n",
    "    \"\"\"Print the top 5 highest rated movies\"\"\"\n",
    "    \n",
    "    # Group by 'movieId' and calculate the mean\n",
    "    avg_ratings_df = ratings.groupby('movieId').mean('rating')\n",
    "    \n",
    "    # Merge the dataframes based on the index\n",
    "    merged_df = pd.merge(avg_ratings_df, movies, left_index=True, right_index=True)\n",
    "    \n",
    "    # Get the top 5 movies\n",
    "    top_5_movies = merged_df[['rating', 'title']].sort_values(by=['rating'], ascending=False).head(5)\n",
    "    \n",
    "    return top_5_movies\n",
    "\n",
    "top5 = top_5_movies(ratings=ratings_df, movies=movies_df['title'])\n",
    "top5"
   ]
  },
  {
   "cell_type": "markdown",
   "id": "e3c3cc83",
   "metadata": {},
   "source": [
    "This code can be improved by using weightened average"
   ]
  },
  {
   "cell_type": "markdown",
   "id": "d4b022bc",
   "metadata": {},
   "source": [
    "## 5. Print the number of movies released each year."
   ]
  },
  {
   "cell_type": "code",
   "execution_count": null,
   "id": "1ded921b",
   "metadata": {},
   "outputs": [],
   "source": [
    "def movies_per_year(movies):\n",
    "    \"\"\"Print the number of movies per year\"\"\"\n",
    "    \n",
    "    # Extract the year component from 'release_date' and store into a new column 'release_year'\n",
    "    movies['release_year'] = pd.to_datetime(movies['release_date'], errors='coerce').dt.year\n",
    "    \n",
    "    # Dropping the na in 'release_year'\n",
    "    movies['release_year'] = movies['release_year'].dropna()\n",
    "    \n",
    "    # Count the number of movies released each year\n",
    "    movies_per_year = movies['release_year'].value_counts().sort_index()\n",
    "    \n",
    "    # Create a movies_per_year_df DataFrame from the Pandas Series\n",
    "    movies_per_year_df = pd.DataFrame({'Year': movies_per_year.index, 'Count': movies_per_year.values})\n",
    "    \n",
    "    # Cast 'Year' column to integer data type\n",
    "    movies_per_year_df['Year'] = movies_per_year_df['Year'].astype(int)\n",
    "    \n",
    "    return movies_per_year_df\n",
    "    \n",
    "n_movies = movies_per_year(movies_df)\n",
    "\n",
    "n_movies"
   ]
  },
  {
   "cell_type": "markdown",
   "id": "cc59519a",
   "metadata": {},
   "source": [
    "## 6. Print the number of movies in each genre."
   ]
  },
  {
   "cell_type": "code",
   "execution_count": null,
   "id": "227a91e3",
   "metadata": {
    "scrolled": true
   },
   "outputs": [],
   "source": [
    "import ast\n",
    "\n",
    "def movies_per_genre(movies):\n",
    "    \"\"\"Print the number of movies in each genre\"\"\"\n",
    "    \n",
    "    # Convert the string stored in column 'genres' to lists of dictionaries\n",
    "    # movies_df['genres'] = movies_df['genres'].apply(ast.literal_eval)\n",
    "    if isinstance(movies_df['genres'].iloc[0], str):\n",
    "        movies_df['genres'] = movies_df['genres'].apply(ast.literal_eval)\n",
    "\n",
    "    # Extract the relevant information from the nested dictionaries\n",
    "    movies_df['genre_names'] = movies_df['genres'].apply(lambda x: [genre['name'] for genre in x])\n",
    "    \n",
    "    # Count the number of movies per genre and return a pandas.DataFrame\n",
    "    movies_per_genre = movies_df['genre_names'].explode().value_counts()\n",
    "    movies_per_genre.columns = ['Genre', 'Count']\n",
    "    \n",
    "    return movies_per_genre.to_frame().reset_index()\n",
    "\n",
    "movies_per_genre(movies=movies_df)"
   ]
  },
  {
   "cell_type": "markdown",
   "id": "5dc4d757",
   "metadata": {},
   "source": [
    "## 7. Save the dataset to a JSON file."
   ]
  },
  {
   "cell_type": "code",
   "execution_count": null,
   "id": "03a9c798",
   "metadata": {},
   "outputs": [],
   "source": [
    "top_5_movies.to_json('path/to/top_5_movies.csv')\n",
    "movies_per_year.to_json('path/to/movies_per_year.csv')\n",
    "movies_per_genre.to_json('path/to/movies_per_genre.csv')"
   ]
  },
  {
   "cell_type": "markdown",
   "id": "f545114e",
   "metadata": {},
   "source": [
    "## 8. Program to analyse the movies dataset using Pandas and object-oriented approach (OOP)"
   ]
  },
  {
   "cell_type": "markdown",
   "id": "a96d6e92",
   "metadata": {},
   "source": [
    "This program can be used in this notebook and as a standalone application to print the results in the console window"
   ]
  },
  {
   "cell_type": "code",
   "execution_count": 1,
   "id": "577de7a8",
   "metadata": {},
   "outputs": [],
   "source": [
    "import pandas as pd\n",
    "import numpy as np\n",
    "import ast\n",
    "from datetime import datetime, date\n",
    "\n",
    "\n",
    "class MoviesAnalisys():\n",
    "    \"\"\"Data analysis of the movies dataset\"\"\"\n",
    "\n",
    "\n",
    "    def __init__(self, movies_filepath, ratings_filepath):\n",
    "        \"\"\"Initialize attributes\"\"\"\n",
    "        \n",
    "        # 1. Load the dataset from a CSV file.\n",
    "        # Define the data types for each column\n",
    "        dtypes_movies = {\n",
    "            'genres': object,\n",
    "            'release_date': str,\n",
    "            'title': str,\n",
    "        }\n",
    "        \n",
    "        # Read the movies_metadata.csv file\n",
    "        movies_columns = ['genres', 'id', 'release_date', 'title']\n",
    "        self.movies = pd.read_csv(movies_filepath, header=0, sep=',', \\\n",
    "                        parse_dates=True, \\\n",
    "                        usecols=movies_columns, \\\n",
    "                        dtype=dtypes_movies)\n",
    "        \n",
    "        # Drop the non-alphanumeric rows\n",
    "        self.movies = self.movies[self.movies['id'].str.isalnum()]\n",
    "        \n",
    "        # Keep only the rows with unique 'id' numbers\n",
    "        self.movies = self.movies.drop_duplicates(subset='id')\n",
    "        \n",
    "        # Convert 'id' column to int data type\n",
    "        self.movies['id'] = self.movies['id'].astype(int)\n",
    "        \n",
    "        # Set the 'id' column as self.movies index\n",
    "        self.movies.set_index('id', inplace=True)  \n",
    "        \n",
    "        ratings_columns = ['movieId', 'rating']\n",
    "        self.ratings = pd.read_csv(ratings_filepath, \\\n",
    "                                usecols=ratings_columns, \\\n",
    "                                index_col='movieId', \\\n",
    "                                dtype={'movieId': int, 'rating':float})\n",
    "\n",
    "\n",
    "    def count_movies(self):\n",
    "        \"\"\"2. Print the number of movies in the dataset.\"\"\"\n",
    "\n",
    "        print('Number of movies in the dataset: ' + str(len(self.movies)))\n",
    "\n",
    "\n",
    "    def avg_rating(self):\n",
    "        \"\"\"3. Print the average rating of all the movies.\"\"\"\n",
    "        \n",
    "        average_rating = self.ratings['rating'].mean()\n",
    "        print('Average movie rating: ' + str(np.round(average_rating, 2)))\n",
    "\n",
    "\n",
    "    def top_5_movies(self):\n",
    "        \"\"\"4. Print the top 5 highest rated movies.\"\"\"\n",
    "        \n",
    "        # Calculate the average ratign by movieId\n",
    "        avg_ratings_df = self.ratings.groupby('movieId').apply('mean', 'rating')\n",
    "        \n",
    "        # Convert 'id' column to int data type\n",
    "        # self.movies['id'] = self.movies['id'].astype(int)\n",
    "\n",
    "        # Merge the dataframes based on ratingsmovieId and id\n",
    "        merged_df = pd.merge(avg_ratings_df, self.movies, left_index=True, right_index=True)\n",
    "        \n",
    "        # Calculate the top 5 movies\n",
    "        top_5_movies = merged_df[['rating', 'title']].sort_values('rating', ascending=False).head(5)\n",
    "        \n",
    "        # print('Top 5 movies:' + str(top_5_movies))\n",
    "        \n",
    "        return top_5_movies    \n",
    "\n",
    "    \n",
    "    def movies_per_genre(self):\n",
    "        \"\"\"6. Print the number of movies in each genre.\"\"\"\n",
    "        \n",
    "        # Convert the string stored in column 'genres' to lists of dictionaries\n",
    "        if isinstance(self.movies['genres'].iloc[0], str):\n",
    "            self.movies['genres'] = self.movies['genres'].apply(ast.literal_eval)\n",
    "    \n",
    "        # Extract the relevant information from the nested dictionaries\n",
    "        self.movies['genre_names'] = self.movies['genres'].apply(lambda x: [genre['name'] for genre in x])\n",
    "        \n",
    "        # Count the number of movies per genre and convert to pandas.DataFrame\n",
    "        movies_per_genre = self.movies['genre_names'].explode().value_counts()\n",
    "        movies_per_genre.columns = ['Genre', 'Count']\n",
    "    \n",
    "        return movies_per_genre.to_frame().reset_index()    \n",
    "\n",
    "    \n",
    "    def movies_per_year(self):\n",
    "        \"\"\"5. Print the number of movies released each year.\"\"\"\n",
    "        \n",
    "        # Extract the year component from 'release_date' and store into a new column 'release_year'\n",
    "        self.movies['release_year'] = pd.to_datetime(self.movies['release_date'], errors='coerce').dt.year\n",
    "        \n",
    "        # Drop the `na` in 'release_year'\n",
    "        self.movies['release_year'] = self.movies['release_year'].dropna()\n",
    "        \n",
    "        # Count the number of movies released each year\n",
    "        movies_per_year = self.movies['release_year'].value_counts().sort_index()\n",
    "        \n",
    "        # Create a movies_per_year_df pandas.DataFrame from the pandas.Series\n",
    "        movies_per_year_df = pd.DataFrame({'Year': movies_per_year.index, 'Count': movies_per_year.values})\n",
    "        \n",
    "        # Cast 'Year' column to integer data type\n",
    "        movies_per_year_df['Year'] = movies_per_year_df['Year'].astype(int)\n",
    "    \n",
    "        return movies_per_year_df\n",
    "    \n",
    "    \n",
    "    def save_to_json(self, result, filepath):\n",
    "        \"\"\"7. Save the dataset to a JSON file.\"\"\"\n",
    "        \n",
    "        result.to_json(filepath)"
   ]
  },
  {
   "cell_type": "code",
   "execution_count": 2,
   "id": "c9f46677",
   "metadata": {},
   "outputs": [],
   "source": [
    "movies_filepath = 'data/movies_metadata.csv'\n",
    "ratings_filepath = 'data/ratings.csv'\n",
    "\n",
    "# Create an instance of the MoviesAnalysis class\n",
    "movies_analysis = MoviesAnalisys(movies_filepath, ratings_filepath)"
   ]
  },
  {
   "cell_type": "code",
   "execution_count": 3,
   "id": "0915cf0d",
   "metadata": {},
   "outputs": [
    {
     "name": "stdout",
     "output_type": "stream",
     "text": [
      "Number of movies in the dataset: 45433\n"
     ]
    }
   ],
   "source": [
    "# Print the number of movies in the dataset\n",
    "movies_count = movies_analysis.count_movies()"
   ]
  },
  {
   "cell_type": "code",
   "execution_count": 4,
   "id": "9b992339",
   "metadata": {},
   "outputs": [
    {
     "name": "stdout",
     "output_type": "stream",
     "text": [
      "Average movie rating: 3.53\n"
     ]
    }
   ],
   "source": [
    "# Calculate the average rating of all movies\n",
    "average_rating = movies_analysis.avg_rating()"
   ]
  },
  {
   "cell_type": "code",
   "execution_count": 5,
   "id": "5f132c92",
   "metadata": {},
   "outputs": [
    {
     "data": {
      "text/html": [
       "<div>\n",
       "<style scoped>\n",
       "    .dataframe tbody tr th:only-of-type {\n",
       "        vertical-align: middle;\n",
       "    }\n",
       "\n",
       "    .dataframe tbody tr th {\n",
       "        vertical-align: top;\n",
       "    }\n",
       "\n",
       "    .dataframe thead th {\n",
       "        text-align: right;\n",
       "    }\n",
       "</style>\n",
       "<table border=\"1\" class=\"dataframe\">\n",
       "  <thead>\n",
       "    <tr style=\"text-align: right;\">\n",
       "      <th></th>\n",
       "      <th>rating</th>\n",
       "      <th>title</th>\n",
       "    </tr>\n",
       "  </thead>\n",
       "  <tbody>\n",
       "    <tr>\n",
       "      <th>95977</th>\n",
       "      <td>5.0</td>\n",
       "      <td>The Man Behind The Gun</td>\n",
       "    </tr>\n",
       "    <tr>\n",
       "      <th>167666</th>\n",
       "      <td>5.0</td>\n",
       "      <td>Monster High: Escape from Skull Shores</td>\n",
       "    </tr>\n",
       "    <tr>\n",
       "      <th>130544</th>\n",
       "      <td>5.0</td>\n",
       "      <td>Palermo or Wolfsburg</td>\n",
       "    </tr>\n",
       "    <tr>\n",
       "      <th>129530</th>\n",
       "      <td>5.0</td>\n",
       "      <td>Brutal</td>\n",
       "    </tr>\n",
       "    <tr>\n",
       "      <th>164278</th>\n",
       "      <td>5.0</td>\n",
       "      <td>Harvey</td>\n",
       "    </tr>\n",
       "  </tbody>\n",
       "</table>\n",
       "</div>"
      ],
      "text/plain": [
       "        rating                                   title\n",
       "95977      5.0                  The Man Behind The Gun\n",
       "167666     5.0  Monster High: Escape from Skull Shores\n",
       "130544     5.0                    Palermo or Wolfsburg\n",
       "129530     5.0                                  Brutal\n",
       "164278     5.0                                  Harvey"
      ]
     },
     "execution_count": 5,
     "metadata": {},
     "output_type": "execute_result"
    }
   ],
   "source": [
    "# Extract the top 5 movies\n",
    "top_5_movies_result = movies_analysis.top_5_movies()\n",
    "top_5_movies_result"
   ]
  },
  {
   "cell_type": "code",
   "execution_count": 6,
   "id": "8781bb0b",
   "metadata": {},
   "outputs": [
    {
     "data": {
      "text/html": [
       "<div>\n",
       "<style scoped>\n",
       "    .dataframe tbody tr th:only-of-type {\n",
       "        vertical-align: middle;\n",
       "    }\n",
       "\n",
       "    .dataframe tbody tr th {\n",
       "        vertical-align: top;\n",
       "    }\n",
       "\n",
       "    .dataframe thead th {\n",
       "        text-align: right;\n",
       "    }\n",
       "</style>\n",
       "<table border=\"1\" class=\"dataframe\">\n",
       "  <thead>\n",
       "    <tr style=\"text-align: right;\">\n",
       "      <th></th>\n",
       "      <th>genre_names</th>\n",
       "      <th>count</th>\n",
       "    </tr>\n",
       "  </thead>\n",
       "  <tbody>\n",
       "    <tr>\n",
       "      <th>0</th>\n",
       "      <td>Drama</td>\n",
       "      <td>20244</td>\n",
       "    </tr>\n",
       "    <tr>\n",
       "      <th>1</th>\n",
       "      <td>Comedy</td>\n",
       "      <td>13176</td>\n",
       "    </tr>\n",
       "    <tr>\n",
       "      <th>2</th>\n",
       "      <td>Thriller</td>\n",
       "      <td>7619</td>\n",
       "    </tr>\n",
       "    <tr>\n",
       "      <th>3</th>\n",
       "      <td>Romance</td>\n",
       "      <td>6730</td>\n",
       "    </tr>\n",
       "    <tr>\n",
       "      <th>4</th>\n",
       "      <td>Action</td>\n",
       "      <td>6592</td>\n",
       "    </tr>\n",
       "    <tr>\n",
       "      <th>5</th>\n",
       "      <td>Horror</td>\n",
       "      <td>4671</td>\n",
       "    </tr>\n",
       "    <tr>\n",
       "      <th>6</th>\n",
       "      <td>Crime</td>\n",
       "      <td>4304</td>\n",
       "    </tr>\n",
       "    <tr>\n",
       "      <th>7</th>\n",
       "      <td>Documentary</td>\n",
       "      <td>3930</td>\n",
       "    </tr>\n",
       "    <tr>\n",
       "      <th>8</th>\n",
       "      <td>Adventure</td>\n",
       "      <td>3490</td>\n",
       "    </tr>\n",
       "    <tr>\n",
       "      <th>9</th>\n",
       "      <td>Science Fiction</td>\n",
       "      <td>3044</td>\n",
       "    </tr>\n",
       "    <tr>\n",
       "      <th>10</th>\n",
       "      <td>Family</td>\n",
       "      <td>2767</td>\n",
       "    </tr>\n",
       "    <tr>\n",
       "      <th>11</th>\n",
       "      <td>Mystery</td>\n",
       "      <td>2464</td>\n",
       "    </tr>\n",
       "    <tr>\n",
       "      <th>12</th>\n",
       "      <td>Fantasy</td>\n",
       "      <td>2309</td>\n",
       "    </tr>\n",
       "    <tr>\n",
       "      <th>13</th>\n",
       "      <td>Animation</td>\n",
       "      <td>1931</td>\n",
       "    </tr>\n",
       "    <tr>\n",
       "      <th>14</th>\n",
       "      <td>Foreign</td>\n",
       "      <td>1619</td>\n",
       "    </tr>\n",
       "    <tr>\n",
       "      <th>15</th>\n",
       "      <td>Music</td>\n",
       "      <td>1597</td>\n",
       "    </tr>\n",
       "    <tr>\n",
       "      <th>16</th>\n",
       "      <td>History</td>\n",
       "      <td>1398</td>\n",
       "    </tr>\n",
       "    <tr>\n",
       "      <th>17</th>\n",
       "      <td>War</td>\n",
       "      <td>1322</td>\n",
       "    </tr>\n",
       "    <tr>\n",
       "      <th>18</th>\n",
       "      <td>Western</td>\n",
       "      <td>1042</td>\n",
       "    </tr>\n",
       "    <tr>\n",
       "      <th>19</th>\n",
       "      <td>TV Movie</td>\n",
       "      <td>766</td>\n",
       "    </tr>\n",
       "  </tbody>\n",
       "</table>\n",
       "</div>"
      ],
      "text/plain": [
       "        genre_names  count\n",
       "0             Drama  20244\n",
       "1            Comedy  13176\n",
       "2          Thriller   7619\n",
       "3           Romance   6730\n",
       "4            Action   6592\n",
       "5            Horror   4671\n",
       "6             Crime   4304\n",
       "7       Documentary   3930\n",
       "8         Adventure   3490\n",
       "9   Science Fiction   3044\n",
       "10           Family   2767\n",
       "11          Mystery   2464\n",
       "12          Fantasy   2309\n",
       "13        Animation   1931\n",
       "14          Foreign   1619\n",
       "15            Music   1597\n",
       "16          History   1398\n",
       "17              War   1322\n",
       "18          Western   1042\n",
       "19         TV Movie    766"
      ]
     },
     "execution_count": 6,
     "metadata": {},
     "output_type": "execute_result"
    }
   ],
   "source": [
    "# Calculate the number of movies in each genre\n",
    "movies_per_genre_result = movies_analysis.movies_per_genre()\n",
    "movies_per_genre_result"
   ]
  },
  {
   "cell_type": "code",
   "execution_count": 8,
   "id": "de03b1d9",
   "metadata": {},
   "outputs": [
    {
     "data": {
      "text/html": [
       "<div>\n",
       "<style scoped>\n",
       "    .dataframe tbody tr th:only-of-type {\n",
       "        vertical-align: middle;\n",
       "    }\n",
       "\n",
       "    .dataframe tbody tr th {\n",
       "        vertical-align: top;\n",
       "    }\n",
       "\n",
       "    .dataframe thead th {\n",
       "        text-align: right;\n",
       "    }\n",
       "</style>\n",
       "<table border=\"1\" class=\"dataframe\">\n",
       "  <thead>\n",
       "    <tr style=\"text-align: right;\">\n",
       "      <th></th>\n",
       "      <th>Year</th>\n",
       "      <th>Count</th>\n",
       "    </tr>\n",
       "  </thead>\n",
       "  <tbody>\n",
       "    <tr>\n",
       "      <th>0</th>\n",
       "      <td>1874</td>\n",
       "      <td>1</td>\n",
       "    </tr>\n",
       "    <tr>\n",
       "      <th>1</th>\n",
       "      <td>1878</td>\n",
       "      <td>1</td>\n",
       "    </tr>\n",
       "    <tr>\n",
       "      <th>2</th>\n",
       "      <td>1883</td>\n",
       "      <td>1</td>\n",
       "    </tr>\n",
       "    <tr>\n",
       "      <th>3</th>\n",
       "      <td>1887</td>\n",
       "      <td>1</td>\n",
       "    </tr>\n",
       "    <tr>\n",
       "      <th>4</th>\n",
       "      <td>1888</td>\n",
       "      <td>2</td>\n",
       "    </tr>\n",
       "    <tr>\n",
       "      <th>...</th>\n",
       "      <td>...</td>\n",
       "      <td>...</td>\n",
       "    </tr>\n",
       "    <tr>\n",
       "      <th>130</th>\n",
       "      <td>2015</td>\n",
       "      <td>1904</td>\n",
       "    </tr>\n",
       "    <tr>\n",
       "      <th>131</th>\n",
       "      <td>2016</td>\n",
       "      <td>1604</td>\n",
       "    </tr>\n",
       "    <tr>\n",
       "      <th>132</th>\n",
       "      <td>2017</td>\n",
       "      <td>532</td>\n",
       "    </tr>\n",
       "    <tr>\n",
       "      <th>133</th>\n",
       "      <td>2018</td>\n",
       "      <td>5</td>\n",
       "    </tr>\n",
       "    <tr>\n",
       "      <th>134</th>\n",
       "      <td>2020</td>\n",
       "      <td>1</td>\n",
       "    </tr>\n",
       "  </tbody>\n",
       "</table>\n",
       "<p>135 rows × 2 columns</p>\n",
       "</div>"
      ],
      "text/plain": [
       "     Year  Count\n",
       "0    1874      1\n",
       "1    1878      1\n",
       "2    1883      1\n",
       "3    1887      1\n",
       "4    1888      2\n",
       "..    ...    ...\n",
       "130  2015   1904\n",
       "131  2016   1604\n",
       "132  2017    532\n",
       "133  2018      5\n",
       "134  2020      1\n",
       "\n",
       "[135 rows x 2 columns]"
      ]
     },
     "execution_count": 8,
     "metadata": {},
     "output_type": "execute_result"
    }
   ],
   "source": [
    "# Calculate the number of movies released each year\n",
    "movies_per_year_result = movies_analysis.movies_per_year()\n",
    "movies_per_year_result"
   ]
  },
  {
   "cell_type": "code",
   "execution_count": 9,
   "id": "834843a9",
   "metadata": {},
   "outputs": [],
   "source": [
    "# Store some of the reulting dataframes as JSON files\n",
    "top_5_movies_result_filepath = 'results_json/top_5_movies.json'\n",
    "movies_per_genre_result_filepath = 'results_json/movies_per_genre.json'\n",
    "movies_per_year_result_filepath = 'results_json/movies_per_year.json'\n",
    "\n",
    "movies_analysis.save_to_json(top_5_movies_result, top_5_movies_result_filepath)\n",
    "movies_analysis.save_to_json(movies_per_genre_result, movies_per_genre_result_filepath)\n",
    "movies_analysis.save_to_json(movies_per_year_result, movies_per_year_result_filepath)"
   ]
  }
 ],
 "metadata": {
  "kernelspec": {
   "display_name": "Python 3 (ipykernel)",
   "language": "python",
   "name": "python3"
  },
  "language_info": {
   "codemirror_mode": {
    "name": "ipython",
    "version": 3
   },
   "file_extension": ".py",
   "mimetype": "text/x-python",
   "name": "python",
   "nbconvert_exporter": "python",
   "pygments_lexer": "ipython3",
   "version": "3.8.10"
  }
 },
 "nbformat": 4,
 "nbformat_minor": 5
}
