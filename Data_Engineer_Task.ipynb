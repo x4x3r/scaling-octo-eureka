{
 "cells": [
  {
   "cell_type": "markdown",
   "id": "2b5e6578",
   "metadata": {},
   "source": [
    "## Import the required libraries"
   ]
  },
  {
   "cell_type": "code",
   "execution_count": 1,
   "id": "aa61f9ff",
   "metadata": {},
   "outputs": [],
   "source": [
    "import pandas as pd\n",
    "import numpy as np\n",
    "from datetime import datetime, date"
   ]
  },
  {
   "cell_type": "code",
   "execution_count": null,
   "id": "9cd65219",
   "metadata": {},
   "outputs": [],
   "source": [
    "# Create directory named \"data\" and unzip the downloaded movies data\n",
    "!mkdir '/home/user/Desktop/data_engineering_task/data'\n",
    "!unzip 'archive.zip' -d '/home/user/Desktop/data_engineering_task/data'"
   ]
  },
  {
   "cell_type": "code",
   "execution_count": null,
   "id": "1b8e889c",
   "metadata": {},
   "outputs": [],
   "source": [
    "# Check the unzipped data\n",
    "%ls -l data/"
   ]
  },
  {
   "cell_type": "markdown",
   "id": "3ba8a4ce",
   "metadata": {},
   "source": [
    "## 2. Data exploration and  processing"
   ]
  },
  {
   "cell_type": "markdown",
   "id": "8764ed21",
   "metadata": {},
   "source": [
    "The number of movies can be calculated from the movies_metadata.csv dataset"
   ]
  },
  {
   "cell_type": "code",
   "execution_count": null,
   "id": "807e4344",
   "metadata": {
    "scrolled": true
   },
   "outputs": [],
   "source": [
    "movies_df = pd.read_csv('data/movies_metadata.csv', header=0)\n",
    "movies_df.head(5)"
   ]
  },
  {
   "cell_type": "code",
   "execution_count": null,
   "id": "ed3d7a22",
   "metadata": {},
   "outputs": [],
   "source": [
    "# Exploration of the dataset in search of the column for the counting of the films\n",
    "movies_df.columns"
   ]
  },
  {
   "cell_type": "code",
   "execution_count": null,
   "id": "e4f560d5",
   "metadata": {},
   "outputs": [],
   "source": [
    "# Total rows in the movies metadata\n",
    "len(movies_df)"
   ]
  },
  {
   "cell_type": "markdown",
   "id": "ddd95dff",
   "metadata": {},
   "source": [
    "There are 45466 rows in the movies_metadata.csv. `movies_df.columns` reveals that there are 2 possible id columns: 'id' and 'imdb_id'. Further inspection reveals that 'id' has more values and no NA values, while the index numbers in 'imdb_id' have 17 movies less. So, 'id' column might be appropriate for movie count and as an id column of the dataset."
   ]
  },
  {
   "cell_type": "code",
   "execution_count": null,
   "id": "1b8d9973",
   "metadata": {},
   "outputs": [],
   "source": [
    "# There are 0 rows in 'id' column with NA values\n",
    "movies_df['id'].isna().sum()"
   ]
  },
  {
   "cell_type": "code",
   "execution_count": null,
   "id": "e26c2973",
   "metadata": {},
   "outputs": [],
   "source": [
    "# Here we have 17 movies not index by IMDB but existing in the movies database in Kaggle\n",
    "movies_df['imdb_id'].isna().sum()"
   ]
  },
  {
   "cell_type": "code",
   "execution_count": null,
   "id": "5460838c",
   "metadata": {
    "scrolled": true
   },
   "outputs": [],
   "source": [
    "# Here are these 17 movies\n",
    "movies_df[movies_df['imdb_id'].isna()]"
   ]
  },
  {
   "cell_type": "markdown",
   "id": "98c786b9",
   "metadata": {},
   "source": [
    "Also, `pd.read_csv` returns **DtypeWarning: Columns (10) have mixed types**. Columns (10) is the 'id' column. We will try to filter these non-alphanumeric symbols to see what's in there."
   ]
  },
  {
   "cell_type": "code",
   "execution_count": null,
   "id": "e49c0794",
   "metadata": {
    "scrolled": true
   },
   "outputs": [],
   "source": [
    "# Filtering the non-alphanumeric symbols in the 'id' column\n",
    "movies_df[~movies_df['id'].str.isalnum()]"
   ]
  },
  {
   "cell_type": "markdown",
   "id": "a0875e38",
   "metadata": {},
   "source": [
    "Obviously, these are 3 rows (records) containinig movies with release dates, instead of numbers, in the 'id' column. These are 3 movies with neither much information about them, nor 'id' numbers, so it would be hard to use them in the further analysis. The easiest thing to do is to just drop them."
   ]
  },
  {
   "cell_type": "code",
   "execution_count": null,
   "id": "f2282806",
   "metadata": {},
   "outputs": [],
   "source": [
    "# Dropping the non-alphanumeric rows\n",
    "movies_df = movies_df[movies_df['id'].str.isalnum()]"
   ]
  },
  {
   "cell_type": "markdown",
   "id": "c3a4aebb",
   "metadata": {},
   "source": [
    "Also, it's worthwile checking for duplicate rows. Here are they:"
   ]
  },
  {
   "cell_type": "code",
   "execution_count": null,
   "id": "d98b9550",
   "metadata": {},
   "outputs": [],
   "source": [
    "# Duplicated rows in the 'id' column\n",
    "movies_df[movies_df['id'].duplicated(keep=False)].sort_values('id')"
   ]
  },
  {
   "cell_type": "code",
   "execution_count": null,
   "id": "56bac343",
   "metadata": {},
   "outputs": [],
   "source": [
    "# Keeping only the rows with unique 'id' numbers\n",
    "movies_df = movies_df.drop_duplicates(subset='id')"
   ]
  },
  {
   "cell_type": "markdown",
   "id": "b6ae9dbe",
   "metadata": {},
   "source": [
    "## 2. Putting it all together"
   ]
  },
  {
   "cell_type": "markdown",
   "id": "5becd4a7",
   "metadata": {},
   "source": [
    "Write all data processing operations as a single function"
   ]
  },
  {
   "cell_type": "code",
   "execution_count": 3,
   "id": "88dbd2e4",
   "metadata": {},
   "outputs": [],
   "source": [
    "def data_processing(ratings_filepath, movies_filepath):\n",
    "    \"\"\"Read and clean up the data\"\"\"\n",
    "    \n",
    "    dtypes = {\n",
    "        'genres': object,\n",
    "        'release_date': str,\n",
    "        'title': str,\n",
    "    }\n",
    "    \n",
    "    # Read in the movies_metadata.csv\n",
    "    movie_columns = ['genres', 'id', 'release_date', 'title']\n",
    "    movies_df = pd.read_csv(movies_filepath, header=0 , sep=',', \\\n",
    "                            parse_dates=True, \\\n",
    "                            usecols=movie_columns, \\\n",
    "                            dtype=dtypes)\n",
    "    \n",
    "    # Dropping the non-alphanumeric rows\n",
    "    movies_df = movies_df[movies_df['id'].str.isalnum()]\n",
    "    \n",
    "    # Keep only the rows with unique 'id' numbers\n",
    "    movies_df = movies_df.drop_duplicates(subset='id')\n",
    "    \n",
    "    # Convert 'id' column to int data type\n",
    "    movies_df['id'] = movies_df['id'].astype(int)\n",
    "    \n",
    "    # Set the 'id' column as movies_df index\n",
    "    movies_df.set_index('id', inplace=True)  \n",
    "    \n",
    "    # Read in the ratings.csv\n",
    "    columns = ['movieId', 'rating']\n",
    "    ratings_df = pd.read_csv(ratings_filepath, \\\n",
    "                        usecols=columns, \\\n",
    "                        index_col='movieId', \\\n",
    "                         dtype={'movieId':int, \\\n",
    "                        'rating':float})\n",
    "    \n",
    "    return ratings_df, movies_df\n",
    "\n",
    "ratings_filepath = 'data/ratings.csv'\n",
    "movies_filepath = 'data/movies_metadata.csv'\n",
    "\n",
    "ratings_df, movies_df = data_processing(ratings_filepath, movies_filepath)"
   ]
  },
  {
   "cell_type": "markdown",
   "id": "df61b99d",
   "metadata": {},
   "source": [
    "## 3. Print the number of unique movies"
   ]
  },
  {
   "cell_type": "code",
   "execution_count": null,
   "id": "10c6a429",
   "metadata": {
    "scrolled": true
   },
   "outputs": [],
   "source": [
    "# Print the number of unique movies\n",
    "len(movies_df)"
   ]
  },
  {
   "cell_type": "markdown",
   "id": "33a77bd2",
   "metadata": {},
   "source": [
    "## 4. Print the average rating of all the movies."
   ]
  },
  {
   "cell_type": "code",
   "execution_count": null,
   "id": "c685fcd0",
   "metadata": {},
   "outputs": [],
   "source": [
    "def average_rating_loops(file_path):\n",
    "    \"\"\"Calculate the average rating of all movies\"\"\"\n",
    "        \n",
    "    # Define the variables\n",
    "    chunk_size= 5000\n",
    "    \n",
    "    # Initialize variables for average rating calculation\n",
    "    total_sum = 0\n",
    "    total_count = 0\n",
    "    \n",
    "    # Read the file in chunks to prevent memory overloading\n",
    "    for chunk in pd.read_csv(file_path, chunksize=chunk_size):\n",
    "        chunk_sum = chunk['rating'].sum()\n",
    "        \n",
    "        # Update the average values\n",
    "        total_sum += chunk_sum\n",
    "        total_count += len(chunk)\n",
    "    \n",
    "    # Calculate the average rating for all movies\n",
    "    average_rating = total_sum/total_count\n",
    "    \n",
    "    # Print the average rating of all the movies\n",
    "    print('Average movie rating: ' + str(np.round(average_rating, 2)))\n",
    "\n",
    "file_path='data/ratings.csv'\n",
    "average_rating_loops(file_path)"
   ]
  },
  {
   "cell_type": "code",
   "execution_count": null,
   "id": "704b4bf1",
   "metadata": {},
   "outputs": [],
   "source": [
    "# Another way is to load only the columns necessary for calculating the average rating of all movies\n",
    "\n",
    "def average_rating(ratings):\n",
    "    \"\"\"Calculate the average rating of all movies\"\"\"\n",
    "    \n",
    "    average_rating = ratings_df['rating'].mean()\n",
    "    print('Average movie rating: ' + str(np.round(average_rating, 2)))\n",
    "\n",
    "average_rating(ratings_df)"
   ]
  },
  {
   "cell_type": "markdown",
   "id": "dcb52c7f",
   "metadata": {},
   "source": [
    "## 5. Print the top 5 highest rated movies."
   ]
  },
  {
   "cell_type": "code",
   "execution_count": 4,
   "id": "b2aa9c54",
   "metadata": {},
   "outputs": [
    {
     "data": {
      "text/html": [
       "<div>\n",
       "<style scoped>\n",
       "    .dataframe tbody tr th:only-of-type {\n",
       "        vertical-align: middle;\n",
       "    }\n",
       "\n",
       "    .dataframe tbody tr th {\n",
       "        vertical-align: top;\n",
       "    }\n",
       "\n",
       "    .dataframe thead th {\n",
       "        text-align: right;\n",
       "    }\n",
       "</style>\n",
       "<table border=\"1\" class=\"dataframe\">\n",
       "  <thead>\n",
       "    <tr style=\"text-align: right;\">\n",
       "      <th></th>\n",
       "      <th>rating</th>\n",
       "      <th>title</th>\n",
       "    </tr>\n",
       "  </thead>\n",
       "  <tbody>\n",
       "    <tr>\n",
       "      <th>95977</th>\n",
       "      <td>5.0</td>\n",
       "      <td>The Man Behind The Gun</td>\n",
       "    </tr>\n",
       "    <tr>\n",
       "      <th>167666</th>\n",
       "      <td>5.0</td>\n",
       "      <td>Monster High: Escape from Skull Shores</td>\n",
       "    </tr>\n",
       "    <tr>\n",
       "      <th>130544</th>\n",
       "      <td>5.0</td>\n",
       "      <td>Palermo or Wolfsburg</td>\n",
       "    </tr>\n",
       "    <tr>\n",
       "      <th>129530</th>\n",
       "      <td>5.0</td>\n",
       "      <td>Brutal</td>\n",
       "    </tr>\n",
       "    <tr>\n",
       "      <th>164278</th>\n",
       "      <td>5.0</td>\n",
       "      <td>Harvey</td>\n",
       "    </tr>\n",
       "  </tbody>\n",
       "</table>\n",
       "</div>"
      ],
      "text/plain": [
       "        rating                                   title\n",
       "95977      5.0                  The Man Behind The Gun\n",
       "167666     5.0  Monster High: Escape from Skull Shores\n",
       "130544     5.0                    Palermo or Wolfsburg\n",
       "129530     5.0                                  Brutal\n",
       "164278     5.0                                  Harvey"
      ]
     },
     "execution_count": 4,
     "metadata": {},
     "output_type": "execute_result"
    }
   ],
   "source": [
    "def top_5_movies(ratings, movies):\n",
    "    \"\"\"Print the top 5 highest rated movies\"\"\"\n",
    "    \n",
    "    # Group by 'movieId' and calculate the mean\n",
    "    avg_ratings_df = ratings.groupby('movieId').mean('rating')\n",
    "    \n",
    "    # Merge the dataframes based on the index\n",
    "    merged_df = pd.merge(avg_ratings_df, movies, left_index=True, right_index=True)\n",
    "    \n",
    "    # Get the top 5 movies\n",
    "    top_5_movies = merged_df[['rating', 'title']].sort_values(by=['rating'], ascending=False).head(5)\n",
    "    \n",
    "    return top_5_movies\n",
    "\n",
    "top5 = top_5_movies(ratings=ratings_df, movies=movies_df['title'])\n",
    "top5"
   ]
  },
  {
   "cell_type": "markdown",
   "id": "d4b022bc",
   "metadata": {},
   "source": [
    "## 6. Print the number of movies released each year."
   ]
  },
  {
   "cell_type": "code",
   "execution_count": null,
   "id": "1ded921b",
   "metadata": {},
   "outputs": [],
   "source": [
    "def movies_per_year(movies):\n",
    "    \"\"\"Print the number of movies per year\"\"\"\n",
    "    \n",
    "    # Extract the year component from 'release_date' and store into a new column 'release_year'\n",
    "    movies['release_year'] = pd.to_datetime(movies['release_date'], errors='coerce').dt.year\n",
    "    \n",
    "    # Dropping the na in 'release_year'\n",
    "    movies['release_year'] = movies['release_year'].dropna()\n",
    "    \n",
    "    # Count the number of movies released each year\n",
    "    movies_per_year = movies['release_year'].value_counts().sort_index()\n",
    "    \n",
    "    # Create a movies_per_year_df DataFrame from the Pandas Series\n",
    "    movies_per_year_df = pd.DataFrame({'Year': movies_per_year.index, 'Count': movies_per_year.values})\n",
    "    \n",
    "    # Cast 'Year' column to integer data type\n",
    "    movies_per_year_df['Year'] = movies_per_year_df['Year'].astype(int)\n",
    "    \n",
    "    return movies_per_year_df\n",
    "    \n",
    "n_movies = movies_per_year(movies_df)\n",
    "\n",
    "n_movies"
   ]
  },
  {
   "cell_type": "markdown",
   "id": "cc59519a",
   "metadata": {},
   "source": [
    "## 7. Print the number of movies in each genre."
   ]
  },
  {
   "cell_type": "code",
   "execution_count": null,
   "id": "227a91e3",
   "metadata": {
    "scrolled": true
   },
   "outputs": [],
   "source": [
    "import ast\n",
    "\n",
    "def movies_per_genre(movies):\n",
    "    \"\"\"Print the number of movies in each genre\"\"\"\n",
    "    \n",
    "    # Convert the data in the 'genres' object to string\n",
    "    # movies_df['genres'] = movies_df['genres'].apply(ast.literal_eval)\n",
    "    if isinstance(movies_df['genres'].iloc[0], str):\n",
    "        movies_df['genres'] = movies_df['genres'].apply(ast.literal_eval)\n",
    "\n",
    "    # Extract the relevant information from the nested dictionaries\n",
    "    movies_df['genre_names'] = movies_df['genres'].apply(lambda x: [genre['name'] for genre in x])\n",
    "    \n",
    "    # Count the number of movies per genre and convert to pandas.DataFrame\n",
    "    movies_per_genre = movies_df['genre_names'].explode().value_counts()\n",
    "    movies_per_genre.columns = ['Genre', 'Count']\n",
    "    \n",
    "    return movies_per_genre.to_frame().reset_index()\n",
    "\n",
    "movies_per_genre(movies=movies_df)"
   ]
  },
  {
   "cell_type": "markdown",
   "id": "5dc4d757",
   "metadata": {},
   "source": [
    "### Save the dataset to a JSON file."
   ]
  },
  {
   "cell_type": "code",
   "execution_count": null,
   "id": "03a9c798",
   "metadata": {},
   "outputs": [],
   "source": [
    "top_5_movies.to_json()\n",
    "movies_per_year.to_json()\n",
    "movies_per_genre.to_json()"
   ]
  },
  {
   "cell_type": "markdown",
   "id": "f545114e",
   "metadata": {},
   "source": [
    "## 8. Movies analysis program using Pandas and OOP"
   ]
  },
  {
   "cell_type": "code",
   "execution_count": 1,
   "id": "577de7a8",
   "metadata": {},
   "outputs": [],
   "source": [
    "import pandas as pd\n",
    "import numpy as np\n",
    "import ast\n",
    "from datetime import datetime, date\n",
    "\n",
    "\n",
    "class MoviesAnalisys():\n",
    "    \"\"\"Data analysis of the movies dataset\"\"\"\n",
    "\n",
    "\n",
    "    def __init__(self, movies_filepath, ratings_filepath):\n",
    "        \"\"\"Initialize attributes\"\"\"\n",
    "        \n",
    "        # Define the data types for each column\n",
    "        dtypes_movies = {\n",
    "            'genres': object,\n",
    "            'release_date': str,\n",
    "            'title': str,\n",
    "        }\n",
    "        \n",
    "        # Read the movies_metadata.csv file\n",
    "        movies_columns = ['genres', 'id', 'release_date', 'title']\n",
    "        self.movies = pd.read_csv(movies_filepath, header=0, sep=',', \\\n",
    "                        parse_dates=True, \\\n",
    "                        usecols=movies_columns, \\\n",
    "                        dtype=dtypes_movies)\n",
    "        \n",
    "        # Drop the non-alphanumeric rows\n",
    "        self.movies = self.movies[self.movies['id'].str.isalnum()]\n",
    "        \n",
    "        # Keep only the rows with unique 'id' numbers\n",
    "        self.movies = self.movies.drop_duplicates(subset='id')\n",
    "        \n",
    "        # Convert 'id' column to int data type\n",
    "        self.movies['id'] = self.movies['id'].astype(int)\n",
    "        \n",
    "        # Set the 'id' column as self.movies index\n",
    "        self.movies.set_index('id', inplace=True)  \n",
    "        \n",
    "        ratings_columns = ['movieId', 'rating']\n",
    "        self.ratings = pd.read_csv(ratings_filepath, \\\n",
    "                                usecols=ratings_columns, \\\n",
    "                                index_col='movieId', \\\n",
    "                                dtype={'movieId': int, 'rating':float})\n",
    "\n",
    "\n",
    "    def count_movies(self):\n",
    "        \"\"\"Print the number of movies in the dataset\"\"\"\n",
    "\n",
    "        print('Number of movies in the dataset: ' + str(len(self.movies)))\n",
    "\n",
    "\n",
    "    def avg_rating(self):\n",
    "        \"\"\"Calculate the average rating of all movies\"\"\"\n",
    "        \n",
    "        average_rating = self.ratings['rating'].mean()\n",
    "        print('Average movie rating: ' + str(np.round(average_rating, 2)))\n",
    "\n",
    "\n",
    "    def top_5_movies(self):\n",
    "        \"\"\"Print the top 5 movies\"\"\"\n",
    "        \n",
    "        # Calculate the average ratign by movieId\n",
    "        avg_ratings_df = self.ratings.groupby('movieId').apply('mean', 'rating')\n",
    "        \n",
    "        # Convert 'id' column to int data type\n",
    "        # self.movies['id'] = self.movies['id'].astype(int)\n",
    "\n",
    "        # Merge the dataframes based on ratingsmovieId and id\n",
    "        merged_df = pd.merge(avg_ratings_df, self.movies, left_index=True, right_index=True)\n",
    "        \n",
    "        # Calculate the top 5 movies\n",
    "        top_5_movies = merged_df[['rating', 'title']].sort_values('rating', ascending=False).head(5)\n",
    "        \n",
    "        # print('Top 5 movies:' + str(top_5_movies))\n",
    "        \n",
    "        return top_5_movies    \n",
    "\n",
    "    \n",
    "    def movies_per_genre(self):\n",
    "        \"\"\"Print the number of movies in each genre\"\"\"\n",
    "        \n",
    "        # Convert the data in the 'genres' object to string\n",
    "        if isinstance(self.movies['genres'].iloc[0], str):\n",
    "            self.movies['genres'] = self.movies['genres'].apply(ast.literal_eval)\n",
    "    \n",
    "        # Extract the relevant information from the nested dictionaries\n",
    "        self.movies['genre_names'] = self.movies['genres'].apply(lambda x: [genre['name'] for genre in x])\n",
    "        \n",
    "        # Count the number of movies per genre and convert to pandas.DataFrame\n",
    "        movies_per_genre = self.movies['genre_names'].explode().value_counts()\n",
    "        movies_per_genre.columns = ['Genre', 'Count']\n",
    "    \n",
    "        return movies_per_genre.to_frame().reset_index()    \n",
    "\n",
    "    \n",
    "    def movies_per_year(self):\n",
    "        \"\"\"Print the number of movies per year\"\"\"\n",
    "        \n",
    "        # Extract the year component from 'release_date' and store into a new column 'release_year'\n",
    "        self.movies['release_year'] = pd.to_datetime(self.movies['release_date'], errors='coerce').dt.year\n",
    "        \n",
    "        # Drop the `na` in 'release_year'\n",
    "        self.movies['release_year'] = self.movies['release_year'].dropna()\n",
    "        \n",
    "        # Count the number of movies released each year\n",
    "        movies_per_year = self.movies['release_year'].value_counts().sort_index()\n",
    "        \n",
    "        # Create a movies_per_year_df pandas.DataFrame from the pandas.Series\n",
    "        movies_per_year_df = pd.DataFrame({'Year': movies_per_year.index, 'Count': movies_per_year.values})\n",
    "        \n",
    "        # Cast 'Year' column to integer data type\n",
    "        movies_per_year_df['Year'] = movies_per_year_df['Year'].astype(int)\n",
    "    \n",
    "        return movies_per_year_df\n",
    "    \n",
    "    \n",
    "    def save_to_json(self, result, filepath):\n",
    "        \"\"\"Save data to JSON\"\"\"\n",
    "        \n",
    "        result.to_json(filepath)"
   ]
  },
  {
   "cell_type": "code",
   "execution_count": 2,
   "id": "c9f46677",
   "metadata": {},
   "outputs": [],
   "source": [
    "movies_filepath = 'data/movies_metadata.csv'\n",
    "ratings_filepath = 'data/ratings.csv'\n",
    "\n",
    "# Create an instance of the MoviesAnalysis class\n",
    "movies_analysis = MoviesAnalisys(movies_filepath, ratings_filepath)"
   ]
  },
  {
   "cell_type": "code",
   "execution_count": 3,
   "id": "0915cf0d",
   "metadata": {},
   "outputs": [
    {
     "name": "stdout",
     "output_type": "stream",
     "text": [
      "Number of movies in the dataset: 45433\n"
     ]
    }
   ],
   "source": [
    "# Print the number of movies in the dataset\n",
    "movies_count = movies_analysis.count_movies()"
   ]
  },
  {
   "cell_type": "code",
   "execution_count": 4,
   "id": "9b992339",
   "metadata": {},
   "outputs": [
    {
     "name": "stdout",
     "output_type": "stream",
     "text": [
      "Average movie rating: 3.53\n"
     ]
    }
   ],
   "source": [
    "# Calculate the average rating of all movies\n",
    "average_rating = movies_analysis.avg_rating()"
   ]
  },
  {
   "cell_type": "code",
   "execution_count": 5,
   "id": "5f132c92",
   "metadata": {},
   "outputs": [
    {
     "data": {
      "text/html": [
       "<div>\n",
       "<style scoped>\n",
       "    .dataframe tbody tr th:only-of-type {\n",
       "        vertical-align: middle;\n",
       "    }\n",
       "\n",
       "    .dataframe tbody tr th {\n",
       "        vertical-align: top;\n",
       "    }\n",
       "\n",
       "    .dataframe thead th {\n",
       "        text-align: right;\n",
       "    }\n",
       "</style>\n",
       "<table border=\"1\" class=\"dataframe\">\n",
       "  <thead>\n",
       "    <tr style=\"text-align: right;\">\n",
       "      <th></th>\n",
       "      <th>rating</th>\n",
       "      <th>title</th>\n",
       "    </tr>\n",
       "  </thead>\n",
       "  <tbody>\n",
       "    <tr>\n",
       "      <th>95977</th>\n",
       "      <td>5.0</td>\n",
       "      <td>The Man Behind The Gun</td>\n",
       "    </tr>\n",
       "    <tr>\n",
       "      <th>167666</th>\n",
       "      <td>5.0</td>\n",
       "      <td>Monster High: Escape from Skull Shores</td>\n",
       "    </tr>\n",
       "    <tr>\n",
       "      <th>130544</th>\n",
       "      <td>5.0</td>\n",
       "      <td>Palermo or Wolfsburg</td>\n",
       "    </tr>\n",
       "    <tr>\n",
       "      <th>129530</th>\n",
       "      <td>5.0</td>\n",
       "      <td>Brutal</td>\n",
       "    </tr>\n",
       "    <tr>\n",
       "      <th>164278</th>\n",
       "      <td>5.0</td>\n",
       "      <td>Harvey</td>\n",
       "    </tr>\n",
       "  </tbody>\n",
       "</table>\n",
       "</div>"
      ],
      "text/plain": [
       "        rating                                   title\n",
       "95977      5.0                  The Man Behind The Gun\n",
       "167666     5.0  Monster High: Escape from Skull Shores\n",
       "130544     5.0                    Palermo or Wolfsburg\n",
       "129530     5.0                                  Brutal\n",
       "164278     5.0                                  Harvey"
      ]
     },
     "execution_count": 5,
     "metadata": {},
     "output_type": "execute_result"
    }
   ],
   "source": [
    "# Extract the top 5 movies\n",
    "top_5_movies_result = movies_analysis.top_5_movies()\n",
    "top_5_movies_result"
   ]
  },
  {
   "cell_type": "code",
   "execution_count": 6,
   "id": "8781bb0b",
   "metadata": {},
   "outputs": [
    {
     "data": {
      "text/html": [
       "<div>\n",
       "<style scoped>\n",
       "    .dataframe tbody tr th:only-of-type {\n",
       "        vertical-align: middle;\n",
       "    }\n",
       "\n",
       "    .dataframe tbody tr th {\n",
       "        vertical-align: top;\n",
       "    }\n",
       "\n",
       "    .dataframe thead th {\n",
       "        text-align: right;\n",
       "    }\n",
       "</style>\n",
       "<table border=\"1\" class=\"dataframe\">\n",
       "  <thead>\n",
       "    <tr style=\"text-align: right;\">\n",
       "      <th></th>\n",
       "      <th>genre_names</th>\n",
       "      <th>count</th>\n",
       "    </tr>\n",
       "  </thead>\n",
       "  <tbody>\n",
       "    <tr>\n",
       "      <th>0</th>\n",
       "      <td>Drama</td>\n",
       "      <td>20244</td>\n",
       "    </tr>\n",
       "    <tr>\n",
       "      <th>1</th>\n",
       "      <td>Comedy</td>\n",
       "      <td>13176</td>\n",
       "    </tr>\n",
       "    <tr>\n",
       "      <th>2</th>\n",
       "      <td>Thriller</td>\n",
       "      <td>7619</td>\n",
       "    </tr>\n",
       "    <tr>\n",
       "      <th>3</th>\n",
       "      <td>Romance</td>\n",
       "      <td>6730</td>\n",
       "    </tr>\n",
       "    <tr>\n",
       "      <th>4</th>\n",
       "      <td>Action</td>\n",
       "      <td>6592</td>\n",
       "    </tr>\n",
       "    <tr>\n",
       "      <th>5</th>\n",
       "      <td>Horror</td>\n",
       "      <td>4671</td>\n",
       "    </tr>\n",
       "    <tr>\n",
       "      <th>6</th>\n",
       "      <td>Crime</td>\n",
       "      <td>4304</td>\n",
       "    </tr>\n",
       "    <tr>\n",
       "      <th>7</th>\n",
       "      <td>Documentary</td>\n",
       "      <td>3930</td>\n",
       "    </tr>\n",
       "    <tr>\n",
       "      <th>8</th>\n",
       "      <td>Adventure</td>\n",
       "      <td>3490</td>\n",
       "    </tr>\n",
       "    <tr>\n",
       "      <th>9</th>\n",
       "      <td>Science Fiction</td>\n",
       "      <td>3044</td>\n",
       "    </tr>\n",
       "    <tr>\n",
       "      <th>10</th>\n",
       "      <td>Family</td>\n",
       "      <td>2767</td>\n",
       "    </tr>\n",
       "    <tr>\n",
       "      <th>11</th>\n",
       "      <td>Mystery</td>\n",
       "      <td>2464</td>\n",
       "    </tr>\n",
       "    <tr>\n",
       "      <th>12</th>\n",
       "      <td>Fantasy</td>\n",
       "      <td>2309</td>\n",
       "    </tr>\n",
       "    <tr>\n",
       "      <th>13</th>\n",
       "      <td>Animation</td>\n",
       "      <td>1931</td>\n",
       "    </tr>\n",
       "    <tr>\n",
       "      <th>14</th>\n",
       "      <td>Foreign</td>\n",
       "      <td>1619</td>\n",
       "    </tr>\n",
       "    <tr>\n",
       "      <th>15</th>\n",
       "      <td>Music</td>\n",
       "      <td>1597</td>\n",
       "    </tr>\n",
       "    <tr>\n",
       "      <th>16</th>\n",
       "      <td>History</td>\n",
       "      <td>1398</td>\n",
       "    </tr>\n",
       "    <tr>\n",
       "      <th>17</th>\n",
       "      <td>War</td>\n",
       "      <td>1322</td>\n",
       "    </tr>\n",
       "    <tr>\n",
       "      <th>18</th>\n",
       "      <td>Western</td>\n",
       "      <td>1042</td>\n",
       "    </tr>\n",
       "    <tr>\n",
       "      <th>19</th>\n",
       "      <td>TV Movie</td>\n",
       "      <td>766</td>\n",
       "    </tr>\n",
       "  </tbody>\n",
       "</table>\n",
       "</div>"
      ],
      "text/plain": [
       "        genre_names  count\n",
       "0             Drama  20244\n",
       "1            Comedy  13176\n",
       "2          Thriller   7619\n",
       "3           Romance   6730\n",
       "4            Action   6592\n",
       "5            Horror   4671\n",
       "6             Crime   4304\n",
       "7       Documentary   3930\n",
       "8         Adventure   3490\n",
       "9   Science Fiction   3044\n",
       "10           Family   2767\n",
       "11          Mystery   2464\n",
       "12          Fantasy   2309\n",
       "13        Animation   1931\n",
       "14          Foreign   1619\n",
       "15            Music   1597\n",
       "16          History   1398\n",
       "17              War   1322\n",
       "18          Western   1042\n",
       "19         TV Movie    766"
      ]
     },
     "execution_count": 6,
     "metadata": {},
     "output_type": "execute_result"
    }
   ],
   "source": [
    "# Calculate the number of movies in each genre\n",
    "movies_per_genre_result = movies_analysis.movies_per_genre()\n",
    "movies_per_genre_result"
   ]
  },
  {
   "cell_type": "code",
   "execution_count": 8,
   "id": "de03b1d9",
   "metadata": {},
   "outputs": [
    {
     "data": {
      "text/html": [
       "<div>\n",
       "<style scoped>\n",
       "    .dataframe tbody tr th:only-of-type {\n",
       "        vertical-align: middle;\n",
       "    }\n",
       "\n",
       "    .dataframe tbody tr th {\n",
       "        vertical-align: top;\n",
       "    }\n",
       "\n",
       "    .dataframe thead th {\n",
       "        text-align: right;\n",
       "    }\n",
       "</style>\n",
       "<table border=\"1\" class=\"dataframe\">\n",
       "  <thead>\n",
       "    <tr style=\"text-align: right;\">\n",
       "      <th></th>\n",
       "      <th>Year</th>\n",
       "      <th>Count</th>\n",
       "    </tr>\n",
       "  </thead>\n",
       "  <tbody>\n",
       "    <tr>\n",
       "      <th>0</th>\n",
       "      <td>1874</td>\n",
       "      <td>1</td>\n",
       "    </tr>\n",
       "    <tr>\n",
       "      <th>1</th>\n",
       "      <td>1878</td>\n",
       "      <td>1</td>\n",
       "    </tr>\n",
       "    <tr>\n",
       "      <th>2</th>\n",
       "      <td>1883</td>\n",
       "      <td>1</td>\n",
       "    </tr>\n",
       "    <tr>\n",
       "      <th>3</th>\n",
       "      <td>1887</td>\n",
       "      <td>1</td>\n",
       "    </tr>\n",
       "    <tr>\n",
       "      <th>4</th>\n",
       "      <td>1888</td>\n",
       "      <td>2</td>\n",
       "    </tr>\n",
       "    <tr>\n",
       "      <th>...</th>\n",
       "      <td>...</td>\n",
       "      <td>...</td>\n",
       "    </tr>\n",
       "    <tr>\n",
       "      <th>130</th>\n",
       "      <td>2015</td>\n",
       "      <td>1904</td>\n",
       "    </tr>\n",
       "    <tr>\n",
       "      <th>131</th>\n",
       "      <td>2016</td>\n",
       "      <td>1604</td>\n",
       "    </tr>\n",
       "    <tr>\n",
       "      <th>132</th>\n",
       "      <td>2017</td>\n",
       "      <td>532</td>\n",
       "    </tr>\n",
       "    <tr>\n",
       "      <th>133</th>\n",
       "      <td>2018</td>\n",
       "      <td>5</td>\n",
       "    </tr>\n",
       "    <tr>\n",
       "      <th>134</th>\n",
       "      <td>2020</td>\n",
       "      <td>1</td>\n",
       "    </tr>\n",
       "  </tbody>\n",
       "</table>\n",
       "<p>135 rows × 2 columns</p>\n",
       "</div>"
      ],
      "text/plain": [
       "     Year  Count\n",
       "0    1874      1\n",
       "1    1878      1\n",
       "2    1883      1\n",
       "3    1887      1\n",
       "4    1888      2\n",
       "..    ...    ...\n",
       "130  2015   1904\n",
       "131  2016   1604\n",
       "132  2017    532\n",
       "133  2018      5\n",
       "134  2020      1\n",
       "\n",
       "[135 rows x 2 columns]"
      ]
     },
     "execution_count": 8,
     "metadata": {},
     "output_type": "execute_result"
    }
   ],
   "source": [
    "# Calculate the number of movies released each year\n",
    "movies_per_year_result = movies_analysis.movies_per_year()\n",
    "movies_per_year_result"
   ]
  },
  {
   "cell_type": "code",
   "execution_count": 9,
   "id": "834843a9",
   "metadata": {},
   "outputs": [],
   "source": [
    "# Store some of the reulting dataframes as JSON files\n",
    "top_5_movies_result_filepath = 'results_json/top_5_movies.json'\n",
    "movies_per_genre_result_filepath = 'results_json/movies_per_genre.json'\n",
    "movies_per_year_result_filepath = 'results_json/movies_per_year.json'\n",
    "\n",
    "movies_analysis.save_to_json(top_5_movies_result, top_5_movies_result_filepath)\n",
    "movies_analysis.save_to_json(movies_per_genre_result, movies_per_genre_result_filepath)\n",
    "movies_analysis.save_to_json(movies_per_year_result, movies_per_year_result_filepath)"
   ]
  }
 ],
 "metadata": {
  "kernelspec": {
   "display_name": "Python 3 (ipykernel)",
   "language": "python",
   "name": "python3"
  },
  "language_info": {
   "codemirror_mode": {
    "name": "ipython",
    "version": 3
   },
   "file_extension": ".py",
   "mimetype": "text/x-python",
   "name": "python",
   "nbconvert_exporter": "python",
   "pygments_lexer": "ipython3",
   "version": "3.8.10"
  }
 },
 "nbformat": 4,
 "nbformat_minor": 5
}
